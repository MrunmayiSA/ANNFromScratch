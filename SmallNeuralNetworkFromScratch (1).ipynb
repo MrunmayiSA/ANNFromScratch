{
  "nbformat": 4,
  "nbformat_minor": 0,
  "metadata": {
    "colab": {
      "name": "SmallNeuralNetworkFromScratch.ipynb",
      "provenance": []
    },
    "kernelspec": {
      "name": "python3",
      "display_name": "Python 3"
    }
  },
  "cells": [
    {
      "cell_type": "markdown",
      "metadata": {
        "id": "4C06PdJ1kZUX"
      },
      "source": [
        "Building a small ANN from scratch for understanding the \"Intent\" of a sentence (classifying the sentence into one of the 3 known intents)."
      ]
    },
    {
      "cell_type": "code",
      "metadata": {
        "id": "X48DvJHGlPST"
      },
      "source": [
        "# use natural language toolkit\r\n",
        "import nltk\r\n",
        "from nltk.stem.lancaster import LancasterStemmer\r\n",
        "import os\r\n",
        "import json\r\n",
        "import datetime\r\n",
        "stemmer = LancasterStemmer()"
      ],
      "execution_count": null,
      "outputs": []
    },
    {
      "cell_type": "code",
      "metadata": {
        "colab": {
          "base_uri": "https://localhost:8080/"
        },
        "id": "BsS6W7TIlew4",
        "outputId": "1099b5e0-82d7-4048-e382-33c6084b395a"
      },
      "source": [
        "training_data = []\r\n",
        "training_data.append({\"class\":\"greeting\", \"sentence\":\"how are you?\"})\r\n",
        "training_data.append({\"class\":\"greeting\", \"sentence\":\"how is your day?\"})\r\n",
        "training_data.append({\"class\":\"greeting\", \"sentence\":\"good day\"})\r\n",
        "training_data.append({\"class\":\"greeting\", \"sentence\":\"how is it going today?\"})\r\n",
        "\r\n",
        "training_data.append({\"class\":\"goodbye\", \"sentence\":\"have a nice day\"})\r\n",
        "training_data.append({\"class\":\"goodbye\", \"sentence\":\"see you later\"})\r\n",
        "training_data.append({\"class\":\"goodbye\", \"sentence\":\"have a nice day\"})\r\n",
        "training_data.append({\"class\":\"goodbye\", \"sentence\":\"talk to you soon\"})\r\n",
        "\r\n",
        "training_data.append({\"class\":\"sandwich\", \"sentence\":\"make me a sandwich\"})\r\n",
        "training_data.append({\"class\":\"sandwich\", \"sentence\":\"can you make a sandwich?\"})\r\n",
        "training_data.append({\"class\":\"sandwich\", \"sentence\":\"having a sandwich today?\"})\r\n",
        "training_data.append({\"class\":\"sandwich\", \"sentence\":\"what's for lunch?\"})\r\n",
        "print (\"%s sentences in training data\" % len(training_data))\r\n"
      ],
      "execution_count": null,
      "outputs": [
        {
          "output_type": "stream",
          "text": [
            "12 sentences in training data\n"
          ],
          "name": "stdout"
        }
      ]
    },
    {
      "cell_type": "code",
      "metadata": {
        "colab": {
          "base_uri": "https://localhost:8080/"
        },
        "id": "2Biqxda5llwg",
        "outputId": "e68c3015-0101-4a0d-8226-b5eebdfdd6b2"
      },
      "source": [
        "words = []\r\n",
        "classes = []\r\n",
        "documents = []\r\n",
        "ignore_words = ['?']\r\n",
        "# loop through each sentence in our training data\r\n",
        "for pattern in training_data:\r\n",
        "    # tokenize each word in the sentence\r\n",
        "    w = nltk.word_tokenize(pattern['sentence'])\r\n",
        "    # add to our words list\r\n",
        "    words.extend(w)\r\n",
        "    # add to documents in our corpus\r\n",
        "    documents.append((w, pattern['class']))\r\n",
        "    # add to our classes list\r\n",
        "    if pattern['class'] not in classes:\r\n",
        "        classes.append(pattern['class'])\r\n",
        "\r\n",
        "# stem and lower each word and remove duplicates\r\n",
        "words = [stemmer.stem(w.lower()) for w in words if w not in ignore_words]\r\n",
        "words = list(set(words))\r\n",
        "\r\n",
        "# remove duplicates\r\n",
        "classes = list(set(classes))\r\n",
        "\r\n",
        "print (len(documents), \"documents\")\r\n",
        "print (len(classes), \"classes\", classes)\r\n",
        "print (len(words), \"unique stemmed words\", words)"
      ],
      "execution_count": null,
      "outputs": [
        {
          "output_type": "stream",
          "text": [
            "12 documents\n",
            "3 classes ['greeting', 'goodbye', 'sandwich']\n",
            "26 unique stemmed words ['it', 'yo', 'what', 'nic', 'me', 'talk', 'how', 'for', 'going', 'day', 'to', 'see', 'good', 'mak', 'a', 'hav', 'lunch', \"'s\", 'you', 'soon', 'sandwich', 'is', 'can', 'ar', 'lat', 'today']\n"
          ],
          "name": "stdout"
        }
      ]
    },
    {
      "cell_type": "markdown",
      "metadata": {
        "id": "03fVUvEnmDAc"
      },
      "source": [
        "### Bag of words model"
      ]
    },
    {
      "cell_type": "code",
      "metadata": {
        "colab": {
          "base_uri": "https://localhost:8080/"
        },
        "id": "h7jir7y9l6pY",
        "outputId": "49c14253-ae5c-45dc-cf45-b2bb2a5ac8b1"
      },
      "source": [
        "# create our training data\r\n",
        "training = []\r\n",
        "output = []\r\n",
        "# create an empty array for our output\r\n",
        "output_empty = [0] * len(classes)\r\n",
        "\r\n",
        "# training set, bag of words for each sentence\r\n",
        "for doc in documents:\r\n",
        "    # initialize our bag of words\r\n",
        "    bag = []\r\n",
        "    # list of tokenized words for the pattern\r\n",
        "    pattern_words = doc[0]\r\n",
        "    # stem each word\r\n",
        "    pattern_words = [stemmer.stem(word.lower()) for word in pattern_words]\r\n",
        "    # create our bag of words array\r\n",
        "    for w in words:\r\n",
        "        bag.append(1) if w in pattern_words else bag.append(0)\r\n",
        "\r\n",
        "    training.append(bag)\r\n",
        "    # output is a '0' for each tag and '1' for current tag\r\n",
        "    output_row = list(output_empty)\r\n",
        "    output_row[classes.index(doc[1])] = 1\r\n",
        "    output.append(output_row)\r\n",
        "\r\n",
        "# sample training/output\r\n",
        "i = 0\r\n",
        "w = documents[i][0]\r\n",
        "print ([stemmer.stem(word.lower()) for word in w])\r\n",
        "print (training[i])\r\n",
        "print (output[i])"
      ],
      "execution_count": null,
      "outputs": [
        {
          "output_type": "stream",
          "text": [
            "['how', 'ar', 'you', '?']\n",
            "[0, 0, 0, 0, 0, 0, 1, 0, 0, 0, 0, 0, 0, 0, 0, 0, 0, 0, 1, 0, 0, 0, 0, 1, 0, 0]\n",
            "[1, 0, 0]\n"
          ],
          "name": "stdout"
        }
      ]
    },
    {
      "cell_type": "markdown",
      "metadata": {
        "id": "8QxLHhV8mXeY"
      },
      "source": [
        "Sigmoid Activation Function"
      ]
    },
    {
      "cell_type": "code",
      "metadata": {
        "id": "ftKexzPkmbqa"
      },
      "source": [
        "import numpy as np\r\n",
        "import time\r\n",
        "\r\n",
        "# compute sigmoid nonlinearity\r\n",
        "def sigmoid(x):\r\n",
        "    output = 1/(1+np.exp(-x))\r\n",
        "    return output\r\n",
        "\r\n",
        "# convert output of sigmoid function to its derivative\r\n",
        "def sigmoid_output_to_derivative(output):\r\n",
        "    return output*(1-output)\r\n",
        " \r\n",
        "def clean_up_sentence(sentence):\r\n",
        "    # tokenize the pattern\r\n",
        "    sentence_words = nltk.word_tokenize(sentence)\r\n",
        "    # stem each word\r\n",
        "    sentence_words = [stemmer.stem(word.lower()) for word in sentence_words]\r\n",
        "    return sentence_words\r\n",
        "\r\n",
        "# return bag of words array: 0 or 1 for each word in the bag that exists in the sentence\r\n",
        "def bow(sentence, words, show_details=False):\r\n",
        "    # tokenize the pattern\r\n",
        "    sentence_words = clean_up_sentence(sentence)\r\n",
        "    # bag of words\r\n",
        "    bag = [0]*len(words)  \r\n",
        "    for s in sentence_words:\r\n",
        "        for i,w in enumerate(words):\r\n",
        "            if w == s: \r\n",
        "                bag[i] = 1\r\n",
        "                if show_details:\r\n",
        "                    print (\"found in bag: %s\" % w)\r\n",
        "\r\n",
        "    return(np.array(bag))\r\n",
        "\r\n",
        "def think(sentence, show_details=False):\r\n",
        "    x = bow(sentence.lower(), words, show_details)\r\n",
        "    if show_details:\r\n",
        "        print (\"sentence:\", sentence, \"\\n bow:\", x)\r\n",
        "    # input layer is our bag of words\r\n",
        "    l0 = x\r\n",
        "    # matrix multiplication of input and hidden layer\r\n",
        "    l1 = sigmoid(np.dot(l0, synapse_0))\r\n",
        "    # output layer\r\n",
        "    l2 = sigmoid(np.dot(l1, synapse_1))\r\n",
        "    return l2"
      ],
      "execution_count": null,
      "outputs": []
    },
    {
      "cell_type": "markdown",
      "metadata": {
        "id": "HH2wwJQomfel"
      },
      "source": [
        "2-layer ANN (10 nodes in hidden layer)"
      ]
    },
    {
      "cell_type": "code",
      "metadata": {
        "id": "4gYjm95Qm4LH"
      },
      "source": [
        "def train(X, y, hidden_neurons=10, alpha=1, epochs=50000, dropout=False, dropout_percent=0.5):\r\n",
        "\r\n",
        "    print (\"Training with %s neurons, alpha:%s, dropout:%s %s\" % (hidden_neurons, str(alpha), dropout, dropout_percent if dropout else '') )\r\n",
        "    print (\"Input matrix: %sx%s    Output matrix: %sx%s\" % (len(X),len(X[0]),1, len(classes)) )\r\n",
        "    np.random.seed(1)\r\n",
        "\r\n",
        "    last_mean_error = 1\r\n",
        "    # randomly initialize our weights with mean 0\r\n",
        "    synapse_0 = 2*np.random.random((len(X[0]), hidden_neurons)) - 1\r\n",
        "    synapse_1 = 2*np.random.random((hidden_neurons, len(classes))) - 1\r\n",
        "\r\n",
        "    prev_synapse_0_weight_update = np.zeros_like(synapse_0)\r\n",
        "    prev_synapse_1_weight_update = np.zeros_like(synapse_1)\r\n",
        "\r\n",
        "    synapse_0_direction_count = np.zeros_like(synapse_0)\r\n",
        "    synapse_1_direction_count = np.zeros_like(synapse_1)\r\n",
        "        \r\n",
        "    for j in iter(range(epochs+1)):\r\n",
        "\r\n",
        "        # Feed forward through layers 0, 1, and 2\r\n",
        "        layer_0 = X\r\n",
        "        layer_1 = sigmoid(np.dot(layer_0, synapse_0))\r\n",
        "                \r\n",
        "        if(dropout):\r\n",
        "            layer_1 *= np.random.binomial([np.ones((len(X),hidden_neurons))],1-dropout_percent)[0] * (1.0/(1-dropout_percent))\r\n",
        "\r\n",
        "        layer_2 = sigmoid(np.dot(layer_1, synapse_1))\r\n",
        "\r\n",
        "        # how much did we miss the target value?\r\n",
        "        layer_2_error = y - layer_2\r\n",
        "\r\n",
        "        if (j% 10000) == 0 and j > 5000:\r\n",
        "            # if this 10k iteration's error is greater than the last iteration, break out\r\n",
        "            if np.mean(np.abs(layer_2_error)) < last_mean_error:\r\n",
        "                print (\"delta after \"+str(j)+\" iterations:\" + str(np.mean(np.abs(layer_2_error))) )\r\n",
        "                last_mean_error = np.mean(np.abs(layer_2_error))\r\n",
        "            else:\r\n",
        "                print (\"break:\", np.mean(np.abs(layer_2_error)), \">\", last_mean_error )\r\n",
        "                break\r\n",
        "                \r\n",
        "        # in what direction is the target value?\r\n",
        "        # were we really sure? if so, don't change too much.\r\n",
        "        layer_2_delta = layer_2_error * sigmoid_output_to_derivative(layer_2)\r\n",
        "\r\n",
        "        # how much did each l1 value contribute to the l2 error (according to the weights)?\r\n",
        "        layer_1_error = layer_2_delta.dot(synapse_1.T)\r\n",
        "\r\n",
        "        # in what direction is the target l1?\r\n",
        "        # were we really sure? if so, don't change too much.\r\n",
        "        layer_1_delta = layer_1_error * sigmoid_output_to_derivative(layer_1)\r\n",
        "        \r\n",
        "        synapse_1_weight_update = (layer_1.T.dot(layer_2_delta))\r\n",
        "        synapse_0_weight_update = (layer_0.T.dot(layer_1_delta))\r\n",
        "        \r\n",
        "        if(j > 0):\r\n",
        "            synapse_0_direction_count += np.abs(((synapse_0_weight_update > 0)+0) - ((prev_synapse_0_weight_update > 0) + 0))\r\n",
        "            synapse_1_direction_count += np.abs(((synapse_1_weight_update > 0)+0) - ((prev_synapse_1_weight_update > 0) + 0))        \r\n",
        "        \r\n",
        "        synapse_1 += alpha * synapse_1_weight_update\r\n",
        "        synapse_0 += alpha * synapse_0_weight_update\r\n",
        "        \r\n",
        "        prev_synapse_0_weight_update = synapse_0_weight_update\r\n",
        "        prev_synapse_1_weight_update = synapse_1_weight_update\r\n",
        "\r\n",
        "    now = datetime.datetime.now()\r\n",
        "\r\n",
        "    # persist synapses\r\n",
        "    synapse = {'synapse0': synapse_0.tolist(), 'synapse1': synapse_1.tolist(),\r\n",
        "               'datetime': now.strftime(\"%Y-%m-%d %H:%M\"),\r\n",
        "               'words': words,\r\n",
        "               'classes': classes\r\n",
        "              }\r\n",
        "    synapse_file = \"synapses.json\"\r\n",
        "\r\n",
        "    with open(synapse_file, 'w') as outfile:\r\n",
        "        json.dump(synapse, outfile, indent=4, sort_keys=True)\r\n",
        "    print (\"saved synapses to:\", synapse_file)"
      ],
      "execution_count": null,
      "outputs": []
    },
    {
      "cell_type": "code",
      "metadata": {
        "colab": {
          "base_uri": "https://localhost:8080/"
        },
        "id": "1HR-0Rt6opZ1",
        "outputId": "4e499c79-5830-47af-ed71-e00341397ce5"
      },
      "source": [
        "X = np.array(training)\r\n",
        "y = np.array(output)\r\n",
        "\r\n",
        "start_time = time.time()\r\n",
        "\r\n",
        "train(X, y, hidden_neurons=20, alpha=0.1, epochs=100000, dropout=False, dropout_percent=0.2)\r\n",
        "\r\n",
        "elapsed_time = time.time() - start_time\r\n",
        "print (\"processing time:\", elapsed_time, \"seconds\")"
      ],
      "execution_count": null,
      "outputs": [
        {
          "output_type": "stream",
          "text": [
            "Training with 20 neurons, alpha:0.1, dropout:False \n",
            "Input matrix: 12x26    Output matrix: 1x3\n",
            "delta after 10000 iterations:0.006515470475727971\n",
            "delta after 20000 iterations:0.004444985668469875\n",
            "delta after 30000 iterations:0.003563546804451645\n",
            "delta after 40000 iterations:0.00304926321836789\n",
            "delta after 50000 iterations:0.0027033411698482598\n",
            "delta after 60000 iterations:0.0024507351521776397\n",
            "delta after 70000 iterations:0.0022560820283689673\n",
            "delta after 80000 iterations:0.0021002781839028666\n",
            "delta after 90000 iterations:0.0019719912690167943\n",
            "delta after 100000 iterations:0.0018640228343942992\n",
            "saved synapses to: synapses.json\n",
            "processing time: 8.859470844268799 seconds\n"
          ],
          "name": "stdout"
        }
      ]
    },
    {
      "cell_type": "markdown",
      "metadata": {
        "id": "UNudBb5Ro4ZH"
      },
      "source": [
        "Classification on test data"
      ]
    },
    {
      "cell_type": "code",
      "metadata": {
        "id": "bc5eqj6Mo9Rg",
        "colab": {
          "base_uri": "https://localhost:8080/"
        },
        "outputId": "960ee485-9ae9-46e1-98bc-3e29113eabcd"
      },
      "source": [
        "# probability threshold\r\n",
        "ERROR_THRESHOLD = 0.2\r\n",
        "# load our calculated synapse values\r\n",
        "synapse_file = 'synapses.json' \r\n",
        "with open(synapse_file) as data_file: \r\n",
        "    synapse = json.load(data_file) \r\n",
        "    synapse_0 = np.asarray(synapse['synapse0']) \r\n",
        "    synapse_1 = np.asarray(synapse['synapse1'])\r\n",
        "\r\n",
        "def classify(sentence, show_details=False):\r\n",
        "    results = think(sentence, show_details)\r\n",
        "\r\n",
        "    results = [[i,r] for i,r in enumerate(results) if r>ERROR_THRESHOLD ] \r\n",
        "    results.sort(key=lambda x: x[1], reverse=True) \r\n",
        "    return_results =[[classes[r[0]],r[1]] for r in results]\r\n",
        "    print (\"%s \\n classification: %s\" % (sentence, return_results))\r\n",
        "    return return_results\r\n",
        "\r\n",
        "classify(\"sudo make me a sandwich\")\r\n",
        "classify(\"how are you today?\")\r\n",
        "classify(\"talk to you tomorrow\")\r\n",
        "classify(\"who are you?\")\r\n",
        "classify(\"make me some lunch\")\r\n",
        "classify(\"how was your lunch today?\")\r\n",
        "print()\r\n",
        "classify(\"good day\", show_details=True)"
      ],
      "execution_count": null,
      "outputs": [
        {
          "output_type": "stream",
          "text": [
            "sudo make me a sandwich \n",
            " classification: [['sandwich', 0.9988255967204036]]\n",
            "how are you today? \n",
            " classification: [['greeting', 0.9963023704036348]]\n",
            "talk to you tomorrow \n",
            " classification: [['goodbye', 0.9948246705070565]]\n",
            "who are you? \n",
            " classification: [['greeting', 0.8080656888284152]]\n",
            "make me some lunch \n",
            " classification: [['sandwich', 0.9593943201211058]]\n",
            "how was your lunch today? \n",
            " classification: [['greeting', 0.9948203080005934]]\n",
            "\n",
            "found in bag: good\n",
            "found in bag: day\n",
            "sentence: good day \n",
            " bow: [0 0 0 0 0 0 0 0 0 1 0 0 1 0 0 0 0 0 0 0 0 0 0 0 0 0]\n",
            "good day \n",
            " classification: [['greeting', 0.9968531126439033]]\n"
          ],
          "name": "stdout"
        },
        {
          "output_type": "execute_result",
          "data": {
            "text/plain": [
              "[['greeting', 0.9968531126439033]]"
            ]
          },
          "metadata": {
            "tags": []
          },
          "execution_count": 10
        }
      ]
    }
  ]
}